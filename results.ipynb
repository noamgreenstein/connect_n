{
 "cells": [
  {
   "cell_type": "code",
   "execution_count": 1,
   "metadata": {},
   "outputs": [],
   "source": [
    "import pandas as pd\n",
    "import numpy as np\n",
    "import matplotlib.pyplot as plt"
   ]
  },
  {
   "cell_type": "code",
   "execution_count": 2,
   "metadata": {},
   "outputs": [],
   "source": [
    "def moving_average(data, *, window_size = 50):\n",
    "    assert data.ndim == 1\n",
    "    kernel = np.ones(window_size)\n",
    "    smooth_data = np.convolve(data, kernel) / np.convolve(\n",
    "        np.ones_like(data), kernel\n",
    "    )\n",
    "    return smooth_data[: -window_size + 1]\n"
   ]
  },
  {
   "cell_type": "code",
   "execution_count": null,
   "metadata": {},
   "outputs": [],
   "source": [
    "def combine_df(data):\n",
    "    new_data = pd.DataFrame()\n",
    "    for d in data:\n",
    "        d = d.reset_index().drop(columns=['index'])\n",
    "        d['rollout_num'] = d.index\n",
    "        new_data = pd.concat([new_data, d], axis=0)\n",
    "    return new_data.groupby('rollout_num').mean()"
   ]
  },
  {
   "cell_type": "code",
   "execution_count": 29,
   "metadata": {},
   "outputs": [],
   "source": [
    "def plot_df(dfs, n):\n",
    "    fig, axes = plt.subplots(2, 2, figsize=(15, 15))\n",
    "    ax = axes.flatten()\n",
    "    for i, df in enumerate(dfs):\n",
    "        ax[i].set_title(f'Connect-{n[i]} Win %')\n",
    "        ax[i].set_xlabel('Episode x 100')\n",
    "        ax[i].set_ylabel('Win %')\n",
    "        agents = df['Agent'].unique()\n",
    "        for agent in agents:\n",
    "            agent_df = df[df['Agent'] == agent]\n",
    "            ax[i].plot(agent_df['win_rates'].values, label=agent)\n",
    "        ax[i].legend()\n",
    "    \n",
    "    plt.show()\n"
   ]
  },
  {
   "cell_type": "code",
   "execution_count": null,
   "metadata": {},
   "outputs": [],
   "source": [
    "data = []\n",
    "for i in range(3, 7):\n",
    "    data.append([pd.read_csv(f'../results/c{i}_trail{j}.csv') for j in range(1, 6)])\n",
    "data = [combine_df(d) for d in data]\n",
    "plot_df(data, list(range(3, 7)))"
   ]
  }
 ],
 "metadata": {
  "kernelspec": {
   "display_name": "Python 3",
   "language": "python",
   "name": "python3"
  },
  "language_info": {
   "codemirror_mode": {
    "name": "ipython",
    "version": 3
   },
   "file_extension": ".py",
   "mimetype": "text/x-python",
   "name": "python",
   "nbconvert_exporter": "python",
   "pygments_lexer": "ipython3",
   "version": "3.11.3"
  }
 },
 "nbformat": 4,
 "nbformat_minor": 2
}
